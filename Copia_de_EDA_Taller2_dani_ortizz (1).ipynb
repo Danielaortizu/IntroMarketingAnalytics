{
  "cells": [
    {
      "cell_type": "markdown",
      "metadata": {
        "id": "O01pajJ0l0Lp"
      },
      "source": [
        "# EDA con Enfoque en CAC y LTV\n",
        "\n",
        "Este cuaderno se centra en **preguntas de negocio** que generan valor al entender la relación entre:\n",
        "- **CAC**: Costo de Adquisición de Cliente.\n",
        "- **LTV**: Valor de Vida del Cliente.\n",
        "\n",
        "Adicionalmente, explora aspectos clave como **suscripción**, **descuentos**, **categoría** del producto, **frecuencia de compras**, **método de pago**, etc. Con estas preguntas podrás tomar **decisiones estratégicas** sobre tu modelo de negocio, campañas de marketing y retención de clientes.\n",
        "\n",
        "## Contenido:\n",
        "1. **Importar librerías y cargar datos**\n",
        "2. **Inspección inicial** (dimensiones, tipos de datos, nulos)\n",
        "3. **Limpieza básica** (si es necesaria)\n",
        "4. **Creación de columna** ratio `LTV/CAC` (rentabilidad por cliente)\n",
        "5. **Preguntas de negocio** (groupby, filtros, etc.)\n",
        "6. **Conclusiones**"
      ]
    },
    {
      "cell_type": "code",
      "execution_count": null,
      "metadata": {
        "id": "sgd1341al0Lt",
        "colab": {
          "base_uri": "https://localhost:8080/"
        },
        "outputId": "a057bd11-f1d0-4a2d-d3bd-0d2ef2f01f05"
      },
      "outputs": [
        {
          "output_type": "stream",
          "name": "stdout",
          "text": [
            "--2025-03-12 14:12:40--  http://!wget/\n",
            "Resolving !wget (!wget)... failed: Name or service not known.\n",
            "wget: unable to resolve host address ‘!wget’\n",
            "--2025-03-12 14:12:40--  https://github.com/javierherrera1996/IntroMarketingAnalytics/raw/refs/heads/main/PrimerCorte/shopping_trends_LTV_CAC.csv\n",
            "Resolving github.com (github.com)... 140.82.113.3\n",
            "Connecting to github.com (github.com)|140.82.113.3|:443... connected.\n",
            "HTTP request sent, awaiting response... 302 Found\n",
            "Location: https://raw.githubusercontent.com/javierherrera1996/IntroMarketingAnalytics/refs/heads/main/PrimerCorte/shopping_trends_LTV_CAC.csv [following]\n",
            "--2025-03-12 14:12:41--  https://raw.githubusercontent.com/javierherrera1996/IntroMarketingAnalytics/refs/heads/main/PrimerCorte/shopping_trends_LTV_CAC.csv\n",
            "Resolving raw.githubusercontent.com (raw.githubusercontent.com)... 185.199.108.133, 185.199.109.133, 185.199.110.133, ...\n",
            "Connecting to raw.githubusercontent.com (raw.githubusercontent.com)|185.199.108.133|:443... connected.\n",
            "HTTP request sent, awaiting response... 200 OK\n",
            "Length: 613391 (599K) [text/plain]\n",
            "Saving to: ‘shopping_trends_LTV_CAC.csv’\n",
            "\n",
            "shopping_trends_LTV 100%[===================>] 599.01K  --.-KB/s    in 0.04s   \n",
            "\n",
            "2025-03-12 14:12:41 (14.2 MB/s) - ‘shopping_trends_LTV_CAC.csv’ saved [613391/613391]\n",
            "\n",
            "FINISHED --2025-03-12 14:12:41--\n",
            "Total wall clock time: 1.1s\n",
            "Downloaded: 1 files, 599K in 0.04s (14.2 MB/s)\n"
          ]
        }
      ],
      "source": [
        "!wget !wget https://github.com/javierherrera1996/IntroMarketingAnalytics/raw/refs/heads/main/PrimerCorte/shopping_trends_LTV_CAC.csv"
      ]
    },
    {
      "cell_type": "markdown",
      "metadata": {
        "id": "vu93py_gl0Lu"
      },
      "source": [
        "## 1. Importar librerías y cargar datos\n",
        "Asegúrate de tener tu archivo CSV con las columnas mencionadas: `CAC`, `LTV`, `Purchase Amount (USD)`, etc. Ajusta la ruta según tu archivo real."
      ]
    },
    {
      "cell_type": "code",
      "execution_count": null,
      "metadata": {
        "id": "sOVd5SS_l0Lu",
        "outputId": "3bb3d036-4fce-48e1-8e83-5d802ab549e3",
        "colab": {
          "base_uri": "https://localhost:8080/",
          "height": 342
        }
      },
      "outputs": [
        {
          "output_type": "execute_result",
          "data": {
            "text/plain": [
              "   Customer ID  Age Gender Item Purchased  Category  Purchase Amount (USD)  \\\n",
              "0            1   55   Male         Blouse  Clothing                     53   \n",
              "1            2   19   Male        Sweater  Clothing                     64   \n",
              "2            3   50   Male          Jeans  Clothing                     73   \n",
              "3            4   21   Male        Sandals  Footwear                     90   \n",
              "4            5   45   Male         Blouse  Clothing                     49   \n",
              "\n",
              "        Location Size      Color  Season  ...  Shipping Type Discount Applied  \\\n",
              "0       Kentucky    L       Gray  Winter  ...        Express              Yes   \n",
              "1          Maine    L     Maroon  Winter  ...        Express              Yes   \n",
              "2  Massachusetts    S     Maroon  Spring  ...  Free Shipping              Yes   \n",
              "3   Rhode Island    M     Maroon  Spring  ...   Next Day Air              Yes   \n",
              "4         Oregon    M  Turquoise  Spring  ...  Free Shipping              Yes   \n",
              "\n",
              "  Promo Code Used Previous Purchases Preferred Payment Method  \\\n",
              "0             Yes                 14                    Venmo   \n",
              "1             Yes                  2                     Cash   \n",
              "2             Yes                 23              Credit Card   \n",
              "3             Yes                 49                   PayPal   \n",
              "4             Yes                 31                   PayPal   \n",
              "\n",
              "  Frequency of Purchases    CAC   LTV Rentabilidad  LTV_CAC_Ratio  \n",
              "0            Fortnightly  112.0  1512    16.434783      13.500000  \n",
              "1            Fortnightly   95.0  1497    19.960000      15.757895  \n",
              "2                 Weekly   32.0  1137    94.750000      35.531250  \n",
              "3                 Weekly    NaN  1914    26.957746      26.957746  \n",
              "4               Annually   47.0  1300    48.148148      27.659574  \n",
              "\n",
              "[5 rows x 23 columns]"
            ],
            "text/html": [
              "\n",
              "  <div id=\"df-ec4df5e2-d7cc-475e-afa1-e5d212042721\" class=\"colab-df-container\">\n",
              "    <div>\n",
              "<style scoped>\n",
              "    .dataframe tbody tr th:only-of-type {\n",
              "        vertical-align: middle;\n",
              "    }\n",
              "\n",
              "    .dataframe tbody tr th {\n",
              "        vertical-align: top;\n",
              "    }\n",
              "\n",
              "    .dataframe thead th {\n",
              "        text-align: right;\n",
              "    }\n",
              "</style>\n",
              "<table border=\"1\" class=\"dataframe\">\n",
              "  <thead>\n",
              "    <tr style=\"text-align: right;\">\n",
              "      <th></th>\n",
              "      <th>Customer ID</th>\n",
              "      <th>Age</th>\n",
              "      <th>Gender</th>\n",
              "      <th>Item Purchased</th>\n",
              "      <th>Category</th>\n",
              "      <th>Purchase Amount (USD)</th>\n",
              "      <th>Location</th>\n",
              "      <th>Size</th>\n",
              "      <th>Color</th>\n",
              "      <th>Season</th>\n",
              "      <th>...</th>\n",
              "      <th>Shipping Type</th>\n",
              "      <th>Discount Applied</th>\n",
              "      <th>Promo Code Used</th>\n",
              "      <th>Previous Purchases</th>\n",
              "      <th>Preferred Payment Method</th>\n",
              "      <th>Frequency of Purchases</th>\n",
              "      <th>CAC</th>\n",
              "      <th>LTV</th>\n",
              "      <th>Rentabilidad</th>\n",
              "      <th>LTV_CAC_Ratio</th>\n",
              "    </tr>\n",
              "  </thead>\n",
              "  <tbody>\n",
              "    <tr>\n",
              "      <th>0</th>\n",
              "      <td>1</td>\n",
              "      <td>55</td>\n",
              "      <td>Male</td>\n",
              "      <td>Blouse</td>\n",
              "      <td>Clothing</td>\n",
              "      <td>53</td>\n",
              "      <td>Kentucky</td>\n",
              "      <td>L</td>\n",
              "      <td>Gray</td>\n",
              "      <td>Winter</td>\n",
              "      <td>...</td>\n",
              "      <td>Express</td>\n",
              "      <td>Yes</td>\n",
              "      <td>Yes</td>\n",
              "      <td>14</td>\n",
              "      <td>Venmo</td>\n",
              "      <td>Fortnightly</td>\n",
              "      <td>112.0</td>\n",
              "      <td>1512</td>\n",
              "      <td>16.434783</td>\n",
              "      <td>13.500000</td>\n",
              "    </tr>\n",
              "    <tr>\n",
              "      <th>1</th>\n",
              "      <td>2</td>\n",
              "      <td>19</td>\n",
              "      <td>Male</td>\n",
              "      <td>Sweater</td>\n",
              "      <td>Clothing</td>\n",
              "      <td>64</td>\n",
              "      <td>Maine</td>\n",
              "      <td>L</td>\n",
              "      <td>Maroon</td>\n",
              "      <td>Winter</td>\n",
              "      <td>...</td>\n",
              "      <td>Express</td>\n",
              "      <td>Yes</td>\n",
              "      <td>Yes</td>\n",
              "      <td>2</td>\n",
              "      <td>Cash</td>\n",
              "      <td>Fortnightly</td>\n",
              "      <td>95.0</td>\n",
              "      <td>1497</td>\n",
              "      <td>19.960000</td>\n",
              "      <td>15.757895</td>\n",
              "    </tr>\n",
              "    <tr>\n",
              "      <th>2</th>\n",
              "      <td>3</td>\n",
              "      <td>50</td>\n",
              "      <td>Male</td>\n",
              "      <td>Jeans</td>\n",
              "      <td>Clothing</td>\n",
              "      <td>73</td>\n",
              "      <td>Massachusetts</td>\n",
              "      <td>S</td>\n",
              "      <td>Maroon</td>\n",
              "      <td>Spring</td>\n",
              "      <td>...</td>\n",
              "      <td>Free Shipping</td>\n",
              "      <td>Yes</td>\n",
              "      <td>Yes</td>\n",
              "      <td>23</td>\n",
              "      <td>Credit Card</td>\n",
              "      <td>Weekly</td>\n",
              "      <td>32.0</td>\n",
              "      <td>1137</td>\n",
              "      <td>94.750000</td>\n",
              "      <td>35.531250</td>\n",
              "    </tr>\n",
              "    <tr>\n",
              "      <th>3</th>\n",
              "      <td>4</td>\n",
              "      <td>21</td>\n",
              "      <td>Male</td>\n",
              "      <td>Sandals</td>\n",
              "      <td>Footwear</td>\n",
              "      <td>90</td>\n",
              "      <td>Rhode Island</td>\n",
              "      <td>M</td>\n",
              "      <td>Maroon</td>\n",
              "      <td>Spring</td>\n",
              "      <td>...</td>\n",
              "      <td>Next Day Air</td>\n",
              "      <td>Yes</td>\n",
              "      <td>Yes</td>\n",
              "      <td>49</td>\n",
              "      <td>PayPal</td>\n",
              "      <td>Weekly</td>\n",
              "      <td>NaN</td>\n",
              "      <td>1914</td>\n",
              "      <td>26.957746</td>\n",
              "      <td>26.957746</td>\n",
              "    </tr>\n",
              "    <tr>\n",
              "      <th>4</th>\n",
              "      <td>5</td>\n",
              "      <td>45</td>\n",
              "      <td>Male</td>\n",
              "      <td>Blouse</td>\n",
              "      <td>Clothing</td>\n",
              "      <td>49</td>\n",
              "      <td>Oregon</td>\n",
              "      <td>M</td>\n",
              "      <td>Turquoise</td>\n",
              "      <td>Spring</td>\n",
              "      <td>...</td>\n",
              "      <td>Free Shipping</td>\n",
              "      <td>Yes</td>\n",
              "      <td>Yes</td>\n",
              "      <td>31</td>\n",
              "      <td>PayPal</td>\n",
              "      <td>Annually</td>\n",
              "      <td>47.0</td>\n",
              "      <td>1300</td>\n",
              "      <td>48.148148</td>\n",
              "      <td>27.659574</td>\n",
              "    </tr>\n",
              "  </tbody>\n",
              "</table>\n",
              "<p>5 rows × 23 columns</p>\n",
              "</div>\n",
              "    <div class=\"colab-df-buttons\">\n",
              "\n",
              "  <div class=\"colab-df-container\">\n",
              "    <button class=\"colab-df-convert\" onclick=\"convertToInteractive('df-ec4df5e2-d7cc-475e-afa1-e5d212042721')\"\n",
              "            title=\"Convert this dataframe to an interactive table.\"\n",
              "            style=\"display:none;\">\n",
              "\n",
              "  <svg xmlns=\"http://www.w3.org/2000/svg\" height=\"24px\" viewBox=\"0 -960 960 960\">\n",
              "    <path d=\"M120-120v-720h720v720H120Zm60-500h600v-160H180v160Zm220 220h160v-160H400v160Zm0 220h160v-160H400v160ZM180-400h160v-160H180v160Zm440 0h160v-160H620v160ZM180-180h160v-160H180v160Zm440 0h160v-160H620v160Z\"/>\n",
              "  </svg>\n",
              "    </button>\n",
              "\n",
              "  <style>\n",
              "    .colab-df-container {\n",
              "      display:flex;\n",
              "      gap: 12px;\n",
              "    }\n",
              "\n",
              "    .colab-df-convert {\n",
              "      background-color: #E8F0FE;\n",
              "      border: none;\n",
              "      border-radius: 50%;\n",
              "      cursor: pointer;\n",
              "      display: none;\n",
              "      fill: #1967D2;\n",
              "      height: 32px;\n",
              "      padding: 0 0 0 0;\n",
              "      width: 32px;\n",
              "    }\n",
              "\n",
              "    .colab-df-convert:hover {\n",
              "      background-color: #E2EBFA;\n",
              "      box-shadow: 0px 1px 2px rgba(60, 64, 67, 0.3), 0px 1px 3px 1px rgba(60, 64, 67, 0.15);\n",
              "      fill: #174EA6;\n",
              "    }\n",
              "\n",
              "    .colab-df-buttons div {\n",
              "      margin-bottom: 4px;\n",
              "    }\n",
              "\n",
              "    [theme=dark] .colab-df-convert {\n",
              "      background-color: #3B4455;\n",
              "      fill: #D2E3FC;\n",
              "    }\n",
              "\n",
              "    [theme=dark] .colab-df-convert:hover {\n",
              "      background-color: #434B5C;\n",
              "      box-shadow: 0px 1px 3px 1px rgba(0, 0, 0, 0.15);\n",
              "      filter: drop-shadow(0px 1px 2px rgba(0, 0, 0, 0.3));\n",
              "      fill: #FFFFFF;\n",
              "    }\n",
              "  </style>\n",
              "\n",
              "    <script>\n",
              "      const buttonEl =\n",
              "        document.querySelector('#df-ec4df5e2-d7cc-475e-afa1-e5d212042721 button.colab-df-convert');\n",
              "      buttonEl.style.display =\n",
              "        google.colab.kernel.accessAllowed ? 'block' : 'none';\n",
              "\n",
              "      async function convertToInteractive(key) {\n",
              "        const element = document.querySelector('#df-ec4df5e2-d7cc-475e-afa1-e5d212042721');\n",
              "        const dataTable =\n",
              "          await google.colab.kernel.invokeFunction('convertToInteractive',\n",
              "                                                    [key], {});\n",
              "        if (!dataTable) return;\n",
              "\n",
              "        const docLinkHtml = 'Like what you see? Visit the ' +\n",
              "          '<a target=\"_blank\" href=https://colab.research.google.com/notebooks/data_table.ipynb>data table notebook</a>'\n",
              "          + ' to learn more about interactive tables.';\n",
              "        element.innerHTML = '';\n",
              "        dataTable['output_type'] = 'display_data';\n",
              "        await google.colab.output.renderOutput(dataTable, element);\n",
              "        const docLink = document.createElement('div');\n",
              "        docLink.innerHTML = docLinkHtml;\n",
              "        element.appendChild(docLink);\n",
              "      }\n",
              "    </script>\n",
              "  </div>\n",
              "\n",
              "\n",
              "<div id=\"df-e8bc3cbd-ea44-47ce-9c4e-44bb32ba4d75\">\n",
              "  <button class=\"colab-df-quickchart\" onclick=\"quickchart('df-e8bc3cbd-ea44-47ce-9c4e-44bb32ba4d75')\"\n",
              "            title=\"Suggest charts\"\n",
              "            style=\"display:none;\">\n",
              "\n",
              "<svg xmlns=\"http://www.w3.org/2000/svg\" height=\"24px\"viewBox=\"0 0 24 24\"\n",
              "     width=\"24px\">\n",
              "    <g>\n",
              "        <path d=\"M19 3H5c-1.1 0-2 .9-2 2v14c0 1.1.9 2 2 2h14c1.1 0 2-.9 2-2V5c0-1.1-.9-2-2-2zM9 17H7v-7h2v7zm4 0h-2V7h2v10zm4 0h-2v-4h2v4z\"/>\n",
              "    </g>\n",
              "</svg>\n",
              "  </button>\n",
              "\n",
              "<style>\n",
              "  .colab-df-quickchart {\n",
              "      --bg-color: #E8F0FE;\n",
              "      --fill-color: #1967D2;\n",
              "      --hover-bg-color: #E2EBFA;\n",
              "      --hover-fill-color: #174EA6;\n",
              "      --disabled-fill-color: #AAA;\n",
              "      --disabled-bg-color: #DDD;\n",
              "  }\n",
              "\n",
              "  [theme=dark] .colab-df-quickchart {\n",
              "      --bg-color: #3B4455;\n",
              "      --fill-color: #D2E3FC;\n",
              "      --hover-bg-color: #434B5C;\n",
              "      --hover-fill-color: #FFFFFF;\n",
              "      --disabled-bg-color: #3B4455;\n",
              "      --disabled-fill-color: #666;\n",
              "  }\n",
              "\n",
              "  .colab-df-quickchart {\n",
              "    background-color: var(--bg-color);\n",
              "    border: none;\n",
              "    border-radius: 50%;\n",
              "    cursor: pointer;\n",
              "    display: none;\n",
              "    fill: var(--fill-color);\n",
              "    height: 32px;\n",
              "    padding: 0;\n",
              "    width: 32px;\n",
              "  }\n",
              "\n",
              "  .colab-df-quickchart:hover {\n",
              "    background-color: var(--hover-bg-color);\n",
              "    box-shadow: 0 1px 2px rgba(60, 64, 67, 0.3), 0 1px 3px 1px rgba(60, 64, 67, 0.15);\n",
              "    fill: var(--button-hover-fill-color);\n",
              "  }\n",
              "\n",
              "  .colab-df-quickchart-complete:disabled,\n",
              "  .colab-df-quickchart-complete:disabled:hover {\n",
              "    background-color: var(--disabled-bg-color);\n",
              "    fill: var(--disabled-fill-color);\n",
              "    box-shadow: none;\n",
              "  }\n",
              "\n",
              "  .colab-df-spinner {\n",
              "    border: 2px solid var(--fill-color);\n",
              "    border-color: transparent;\n",
              "    border-bottom-color: var(--fill-color);\n",
              "    animation:\n",
              "      spin 1s steps(1) infinite;\n",
              "  }\n",
              "\n",
              "  @keyframes spin {\n",
              "    0% {\n",
              "      border-color: transparent;\n",
              "      border-bottom-color: var(--fill-color);\n",
              "      border-left-color: var(--fill-color);\n",
              "    }\n",
              "    20% {\n",
              "      border-color: transparent;\n",
              "      border-left-color: var(--fill-color);\n",
              "      border-top-color: var(--fill-color);\n",
              "    }\n",
              "    30% {\n",
              "      border-color: transparent;\n",
              "      border-left-color: var(--fill-color);\n",
              "      border-top-color: var(--fill-color);\n",
              "      border-right-color: var(--fill-color);\n",
              "    }\n",
              "    40% {\n",
              "      border-color: transparent;\n",
              "      border-right-color: var(--fill-color);\n",
              "      border-top-color: var(--fill-color);\n",
              "    }\n",
              "    60% {\n",
              "      border-color: transparent;\n",
              "      border-right-color: var(--fill-color);\n",
              "    }\n",
              "    80% {\n",
              "      border-color: transparent;\n",
              "      border-right-color: var(--fill-color);\n",
              "      border-bottom-color: var(--fill-color);\n",
              "    }\n",
              "    90% {\n",
              "      border-color: transparent;\n",
              "      border-bottom-color: var(--fill-color);\n",
              "    }\n",
              "  }\n",
              "</style>\n",
              "\n",
              "  <script>\n",
              "    async function quickchart(key) {\n",
              "      const quickchartButtonEl =\n",
              "        document.querySelector('#' + key + ' button');\n",
              "      quickchartButtonEl.disabled = true;  // To prevent multiple clicks.\n",
              "      quickchartButtonEl.classList.add('colab-df-spinner');\n",
              "      try {\n",
              "        const charts = await google.colab.kernel.invokeFunction(\n",
              "            'suggestCharts', [key], {});\n",
              "      } catch (error) {\n",
              "        console.error('Error during call to suggestCharts:', error);\n",
              "      }\n",
              "      quickchartButtonEl.classList.remove('colab-df-spinner');\n",
              "      quickchartButtonEl.classList.add('colab-df-quickchart-complete');\n",
              "    }\n",
              "    (() => {\n",
              "      let quickchartButtonEl =\n",
              "        document.querySelector('#df-e8bc3cbd-ea44-47ce-9c4e-44bb32ba4d75 button');\n",
              "      quickchartButtonEl.style.display =\n",
              "        google.colab.kernel.accessAllowed ? 'block' : 'none';\n",
              "    })();\n",
              "  </script>\n",
              "</div>\n",
              "\n",
              "    </div>\n",
              "  </div>\n"
            ],
            "application/vnd.google.colaboratory.intrinsic+json": {
              "type": "dataframe",
              "variable_name": "df"
            }
          },
          "metadata": {},
          "execution_count": 3
        }
      ],
      "source": [
        "import pandas as pd\n",
        "import numpy as np\n",
        "\n",
        "\n",
        "# Cargar el dataset\n",
        "df = pd.read_csv(\"shopping_trends_LTV_CAC.csv\")\n",
        "\n",
        "\n",
        "# Mostramos las primeras filas para verificar\n",
        "df.head()"
      ]
    },
    {
      "cell_type": "markdown",
      "metadata": {
        "id": "VIxVpTz8l0Lv"
      },
      "source": [
        "## 2. Inspección inicial\n",
        "1. **Dimensiones (filas x columnas)**\n",
        "2. **Info general**: tipos de dato, nulos, etc.\n",
        "3. **Valores nulos** por columna."
      ]
    },
    {
      "cell_type": "markdown",
      "metadata": {
        "id": "56fbCQRal0Lv"
      },
      "source": [
        "Si existen valores nulos en columnas importantes (por ejemplo, `CAC`, `LTV`, `Customer ID`), evalúa si los eliminarás o imputarás."
      ]
    },
    {
      "cell_type": "code",
      "source": [
        "df.shape"
      ],
      "metadata": {
        "colab": {
          "base_uri": "https://localhost:8080/"
        },
        "id": "kuE4s6yO6QY0",
        "outputId": "54e2efcb-02fe-48d6-ae88-8d84d9104a77"
      },
      "execution_count": 37,
      "outputs": [
        {
          "output_type": "execute_result",
          "data": {
            "text/plain": [
              "(3301, 24)"
            ]
          },
          "metadata": {},
          "execution_count": 37
        }
      ]
    },
    {
      "cell_type": "code",
      "execution_count": null,
      "metadata": {
        "id": "yZFXdR7rl0Lv",
        "colab": {
          "base_uri": "https://localhost:8080/"
        },
        "outputId": "ac64fe1d-f295-431f-dfce-67ead7b8d8fd"
      },
      "outputs": [
        {
          "output_type": "stream",
          "name": "stdout",
          "text": [
            "Dimensiones del dataset: (3900, 23)\n"
          ]
        }
      ],
      "source": [
        "print(f\"Dimensiones del dataset: {df.shape}\")"
      ]
    },
    {
      "cell_type": "code",
      "source": [
        "print(df.info())"
      ],
      "metadata": {
        "colab": {
          "base_uri": "https://localhost:8080/"
        },
        "id": "28y3RoFoFzk6",
        "outputId": "e7e7fc46-3f8a-48ff-ce79-b939d0209f06"
      },
      "execution_count": null,
      "outputs": [
        {
          "output_type": "stream",
          "name": "stdout",
          "text": [
            "<class 'pandas.core.frame.DataFrame'>\n",
            "RangeIndex: 3900 entries, 0 to 3899\n",
            "Data columns (total 23 columns):\n",
            " #   Column                    Non-Null Count  Dtype  \n",
            "---  ------                    --------------  -----  \n",
            " 0   Customer ID               3900 non-null   int64  \n",
            " 1   Age                       3900 non-null   int64  \n",
            " 2   Gender                    3900 non-null   object \n",
            " 3   Item Purchased            3900 non-null   object \n",
            " 4   Category                  3900 non-null   object \n",
            " 5   Purchase Amount (USD)     3900 non-null   int64  \n",
            " 6   Location                  3900 non-null   object \n",
            " 7   Size                      3900 non-null   object \n",
            " 8   Color                     3900 non-null   object \n",
            " 9   Season                    3900 non-null   object \n",
            " 10  Review Rating             3900 non-null   float64\n",
            " 11  Subscription Status       3900 non-null   object \n",
            " 12  Payment Method            3900 non-null   object \n",
            " 13  Shipping Type             3900 non-null   object \n",
            " 14  Discount Applied          3900 non-null   object \n",
            " 15  Promo Code Used           3900 non-null   object \n",
            " 16  Previous Purchases        3900 non-null   int64  \n",
            " 17  Preferred Payment Method  3900 non-null   object \n",
            " 18  Frequency of Purchases    3900 non-null   object \n",
            " 19  CAC                       3301 non-null   float64\n",
            " 20  LTV                       3900 non-null   int64  \n",
            " 21  Rentabilidad              3900 non-null   float64\n",
            " 22  LTV_CAC_Ratio             3900 non-null   float64\n",
            "dtypes: float64(4), int64(5), object(14)\n",
            "memory usage: 700.9+ KB\n",
            "None\n"
          ]
        }
      ]
    },
    {
      "cell_type": "code",
      "source": [
        "print(df.isnull().sum())"
      ],
      "metadata": {
        "colab": {
          "base_uri": "https://localhost:8080/"
        },
        "id": "zlejgsFGF3jI",
        "outputId": "4ed67a14-094b-45d4-bd2d-42ae34a07da5"
      },
      "execution_count": null,
      "outputs": [
        {
          "output_type": "stream",
          "name": "stdout",
          "text": [
            "Customer ID                   0\n",
            "Age                           0\n",
            "Gender                        0\n",
            "Item Purchased                0\n",
            "Category                      0\n",
            "Purchase Amount (USD)         0\n",
            "Location                      0\n",
            "Size                          0\n",
            "Color                         0\n",
            "Season                        0\n",
            "Review Rating                 0\n",
            "Subscription Status           0\n",
            "Payment Method                0\n",
            "Shipping Type                 0\n",
            "Discount Applied              0\n",
            "Promo Code Used               0\n",
            "Previous Purchases            0\n",
            "Preferred Payment Method      0\n",
            "Frequency of Purchases        0\n",
            "CAC                         599\n",
            "LTV                           0\n",
            "Rentabilidad                  0\n",
            "LTV_CAC_Ratio                 0\n",
            "dtype: int64\n"
          ]
        }
      ]
    },
    {
      "cell_type": "markdown",
      "metadata": {
        "id": "WBULR8o8l0Lw"
      },
      "source": [
        "## 3. Limpieza básica\n",
        "Por ejemplo, si detectas `CAC <= 0` o `LTV <= 0` y consideras que no tienen sentido en tu negocio, podrías filtrar esos registros. Ajusta según tu criterio."
      ]
    },
    {
      "cell_type": "code",
      "source": [
        "df[(df['CAC']<=0) | (df['LTV']<=10)]"
      ],
      "metadata": {
        "colab": {
          "base_uri": "https://localhost:8080/",
          "height": 133
        },
        "id": "AtlUZFlaGJQe",
        "outputId": "d2a608b6-e61e-4c6d-f1a2-919877d18124"
      },
      "execution_count": null,
      "outputs": [
        {
          "output_type": "execute_result",
          "data": {
            "text/plain": [
              "Empty DataFrame\n",
              "Columns: [Customer ID, Age, Gender, Item Purchased, Category, Purchase Amount (USD), Location, Size, Color, Season, Review Rating, Subscription Status, Payment Method, Shipping Type, Discount Applied, Promo Code Used, Previous Purchases, Preferred Payment Method, Frequency of Purchases, CAC, LTV, Rentabilidad, LTV_CAC_Ratio]\n",
              "Index: []\n",
              "\n",
              "[0 rows x 23 columns]"
            ],
            "text/html": [
              "\n",
              "  <div id=\"df-3f76b759-9d01-4b0b-9f57-c96f6ce1a33f\" class=\"colab-df-container\">\n",
              "    <div>\n",
              "<style scoped>\n",
              "    .dataframe tbody tr th:only-of-type {\n",
              "        vertical-align: middle;\n",
              "    }\n",
              "\n",
              "    .dataframe tbody tr th {\n",
              "        vertical-align: top;\n",
              "    }\n",
              "\n",
              "    .dataframe thead th {\n",
              "        text-align: right;\n",
              "    }\n",
              "</style>\n",
              "<table border=\"1\" class=\"dataframe\">\n",
              "  <thead>\n",
              "    <tr style=\"text-align: right;\">\n",
              "      <th></th>\n",
              "      <th>Customer ID</th>\n",
              "      <th>Age</th>\n",
              "      <th>Gender</th>\n",
              "      <th>Item Purchased</th>\n",
              "      <th>Category</th>\n",
              "      <th>Purchase Amount (USD)</th>\n",
              "      <th>Location</th>\n",
              "      <th>Size</th>\n",
              "      <th>Color</th>\n",
              "      <th>Season</th>\n",
              "      <th>...</th>\n",
              "      <th>Shipping Type</th>\n",
              "      <th>Discount Applied</th>\n",
              "      <th>Promo Code Used</th>\n",
              "      <th>Previous Purchases</th>\n",
              "      <th>Preferred Payment Method</th>\n",
              "      <th>Frequency of Purchases</th>\n",
              "      <th>CAC</th>\n",
              "      <th>LTV</th>\n",
              "      <th>Rentabilidad</th>\n",
              "      <th>LTV_CAC_Ratio</th>\n",
              "    </tr>\n",
              "  </thead>\n",
              "  <tbody>\n",
              "  </tbody>\n",
              "</table>\n",
              "<p>0 rows × 23 columns</p>\n",
              "</div>\n",
              "    <div class=\"colab-df-buttons\">\n",
              "\n",
              "  <div class=\"colab-df-container\">\n",
              "    <button class=\"colab-df-convert\" onclick=\"convertToInteractive('df-3f76b759-9d01-4b0b-9f57-c96f6ce1a33f')\"\n",
              "            title=\"Convert this dataframe to an interactive table.\"\n",
              "            style=\"display:none;\">\n",
              "\n",
              "  <svg xmlns=\"http://www.w3.org/2000/svg\" height=\"24px\" viewBox=\"0 -960 960 960\">\n",
              "    <path d=\"M120-120v-720h720v720H120Zm60-500h600v-160H180v160Zm220 220h160v-160H400v160Zm0 220h160v-160H400v160ZM180-400h160v-160H180v160Zm440 0h160v-160H620v160ZM180-180h160v-160H180v160Zm440 0h160v-160H620v160Z\"/>\n",
              "  </svg>\n",
              "    </button>\n",
              "\n",
              "  <style>\n",
              "    .colab-df-container {\n",
              "      display:flex;\n",
              "      gap: 12px;\n",
              "    }\n",
              "\n",
              "    .colab-df-convert {\n",
              "      background-color: #E8F0FE;\n",
              "      border: none;\n",
              "      border-radius: 50%;\n",
              "      cursor: pointer;\n",
              "      display: none;\n",
              "      fill: #1967D2;\n",
              "      height: 32px;\n",
              "      padding: 0 0 0 0;\n",
              "      width: 32px;\n",
              "    }\n",
              "\n",
              "    .colab-df-convert:hover {\n",
              "      background-color: #E2EBFA;\n",
              "      box-shadow: 0px 1px 2px rgba(60, 64, 67, 0.3), 0px 1px 3px 1px rgba(60, 64, 67, 0.15);\n",
              "      fill: #174EA6;\n",
              "    }\n",
              "\n",
              "    .colab-df-buttons div {\n",
              "      margin-bottom: 4px;\n",
              "    }\n",
              "\n",
              "    [theme=dark] .colab-df-convert {\n",
              "      background-color: #3B4455;\n",
              "      fill: #D2E3FC;\n",
              "    }\n",
              "\n",
              "    [theme=dark] .colab-df-convert:hover {\n",
              "      background-color: #434B5C;\n",
              "      box-shadow: 0px 1px 3px 1px rgba(0, 0, 0, 0.15);\n",
              "      filter: drop-shadow(0px 1px 2px rgba(0, 0, 0, 0.3));\n",
              "      fill: #FFFFFF;\n",
              "    }\n",
              "  </style>\n",
              "\n",
              "    <script>\n",
              "      const buttonEl =\n",
              "        document.querySelector('#df-3f76b759-9d01-4b0b-9f57-c96f6ce1a33f button.colab-df-convert');\n",
              "      buttonEl.style.display =\n",
              "        google.colab.kernel.accessAllowed ? 'block' : 'none';\n",
              "\n",
              "      async function convertToInteractive(key) {\n",
              "        const element = document.querySelector('#df-3f76b759-9d01-4b0b-9f57-c96f6ce1a33f');\n",
              "        const dataTable =\n",
              "          await google.colab.kernel.invokeFunction('convertToInteractive',\n",
              "                                                    [key], {});\n",
              "        if (!dataTable) return;\n",
              "\n",
              "        const docLinkHtml = 'Like what you see? Visit the ' +\n",
              "          '<a target=\"_blank\" href=https://colab.research.google.com/notebooks/data_table.ipynb>data table notebook</a>'\n",
              "          + ' to learn more about interactive tables.';\n",
              "        element.innerHTML = '';\n",
              "        dataTable['output_type'] = 'display_data';\n",
              "        await google.colab.output.renderOutput(dataTable, element);\n",
              "        const docLink = document.createElement('div');\n",
              "        docLink.innerHTML = docLinkHtml;\n",
              "        element.appendChild(docLink);\n",
              "      }\n",
              "    </script>\n",
              "  </div>\n",
              "\n",
              "\n",
              "    </div>\n",
              "  </div>\n"
            ],
            "application/vnd.google.colaboratory.intrinsic+json": {
              "type": "dataframe"
            }
          },
          "metadata": {},
          "execution_count": 7
        }
      ]
    },
    {
      "cell_type": "code",
      "execution_count": null,
      "metadata": {
        "id": "F4rQiN4Kl0Lw"
      },
      "outputs": [],
      "source": [
        "df = df[(df['CAC'] > 0) & (df['LTV'] > 0)]"
      ]
    },
    {
      "cell_type": "markdown",
      "metadata": {
        "id": "Mu4BP8bKl0Lw"
      },
      "source": [
        "## 4. Creación de columna: Ratio LTV/CAC\n",
        "Es una métrica clave de la **rentabilidad** del cliente. Un valor > 1 indica que, en teoría, el cliente retorna más de lo que cuesta adquirirlo."
      ]
    },
    {
      "cell_type": "code",
      "execution_count": null,
      "metadata": {
        "id": "w0z9JdPll0Lw",
        "colab": {
          "base_uri": "https://localhost:8080/"
        },
        "outputId": "3778240c-5d32-45f2-ca73-6e5189881111"
      },
      "outputs": [
        {
          "output_type": "stream",
          "name": "stderr",
          "text": [
            "<ipython-input-9-f5736f8072e3>:1: SettingWithCopyWarning: \n",
            "A value is trying to be set on a copy of a slice from a DataFrame.\n",
            "Try using .loc[row_indexer,col_indexer] = value instead\n",
            "\n",
            "See the caveats in the documentation: https://pandas.pydata.org/pandas-docs/stable/user_guide/indexing.html#returning-a-view-versus-a-copy\n",
            "  df['LTV/CAC'] = df['LTV'] / df['CAC']  #Crear una columna Ratio LTV/CAC\n"
          ]
        }
      ],
      "source": [
        "df['LTV/CAC'] = df['LTV'] / df['CAC']  #Crear una columna Ratio LTV/CAC"
      ]
    },
    {
      "cell_type": "markdown",
      "metadata": {
        "id": "Nk6FFM3ll0Lw"
      },
      "source": [
        "## 5. Preguntas de Negocio\n",
        "En vez de usar gráficas o correlaciones, nos centramos en **preguntas que generen valor** al análisis. Cada una se resuelve con **groupby, filtros o estadísticas** simples.\n",
        "\n",
        "1. **¿Cuántos clientes únicos hay y cuál es la edad promedio?**\n",
        "2. **¿Cuál es el CAC promedio y el LTV promedio en todo el dataset?**\n",
        "3. **¿Cuál es la ratio LTV/CAC promedio?**\n",
        "4. **¿Qué categoría tiene el mayor LTV en promedio?**\n",
        "5. **¿En cuál categoría se justifica más el CAC?** (categoría con mayor ratio LTV/CAC)\n",
        "6. **¿Los clientes suscritos tienen LTV mayor que los no suscritos?**\n",
        "7. **¿Cuál es el método de pago más frecuente y su LTV promedio?**\n",
        "8. **¿Quiénes usan descuentos con mayor frecuencia?** (Por ejemplo, ¿cierto género, cierto rango de edad?)\n",
        "9. **¿Cuántos clientes aprovechan códigos promocionales (Promo Code Used)?** y su ratio LTV/CAC\n",
        "10. **¿Cuál es la frecuencia de compra más común (Frequency of Purchases)?** y su LTV asociado.\n",
        "11. **¿Cuál es la ubicación (Location) con mayor ratio LTV/CAC?**\n",
        "12. **Entre los clientes con `Previous Purchases` > X, cuál es el gasto promedio y LTV promedio?**\n"
      ]
    },
    {
      "cell_type": "markdown",
      "metadata": {
        "id": "fnzWaZdwl0Lx"
      },
      "source": [
        "### 5.1 ¿Cuántos clientes únicos hay y cuál es la edad promedio?"
      ]
    },
    {
      "cell_type": "code",
      "source": [
        "df['Customer ID'].nunique()"
      ],
      "metadata": {
        "id": "QaAv4us5HCQ2",
        "outputId": "4a67c9d6-d69e-49e1-d11e-52fb87cbbb43",
        "colab": {
          "base_uri": "https://localhost:8080/"
        }
      },
      "execution_count": null,
      "outputs": [
        {
          "output_type": "execute_result",
          "data": {
            "text/plain": [
              "3301"
            ]
          },
          "metadata": {},
          "execution_count": 10
        }
      ]
    },
    {
      "cell_type": "code",
      "source": [
        "df['Age'].mean()"
      ],
      "metadata": {
        "colab": {
          "base_uri": "https://localhost:8080/"
        },
        "id": "3E7PKe_rG8v2",
        "outputId": "a6d3eddf-5301-43dc-f239-afb752cd77e3"
      },
      "execution_count": null,
      "outputs": [
        {
          "output_type": "execute_result",
          "data": {
            "text/plain": [
              "44.00060587700697"
            ]
          },
          "metadata": {},
          "execution_count": 11
        }
      ]
    },
    {
      "cell_type": "markdown",
      "source": [
        "Hay 3301 clientes únicos y la edad promedio es de 44.00060587700697"
      ],
      "metadata": {
        "id": "c0Nxgc43Hfnk"
      }
    },
    {
      "cell_type": "markdown",
      "metadata": {
        "id": "XaJuwpcTl0Lx"
      },
      "source": [
        "### 5.2 ¿Cuál es el CAC promedio y el LTV promedio en todo el dataset?"
      ]
    },
    {
      "cell_type": "code",
      "execution_count": null,
      "metadata": {
        "id": "TVBkzCPRl0Lx",
        "colab": {
          "base_uri": "https://localhost:8080/"
        },
        "outputId": "98d31acb-3404-4853-f704-9e8045a33c6a"
      },
      "outputs": [
        {
          "output_type": "execute_result",
          "data": {
            "text/plain": [
              "66.29233565586186"
            ]
          },
          "metadata": {},
          "execution_count": 12
        }
      ],
      "source": [
        "df['CAC'].mean()"
      ]
    },
    {
      "cell_type": "code",
      "source": [
        "df['LTV'].mean()"
      ],
      "metadata": {
        "colab": {
          "base_uri": "https://localhost:8080/"
        },
        "id": "zmFiwQJxH1Z4",
        "outputId": "a146ad23-d9f5-4d73-bdf9-ed1733ab232f"
      },
      "execution_count": null,
      "outputs": [
        {
          "output_type": "execute_result",
          "data": {
            "text/plain": [
              "1110.6934262344744"
            ]
          },
          "metadata": {},
          "execution_count": 13
        }
      ]
    },
    {
      "cell_type": "code",
      "source": [
        "print(f\"El CAC promedio es: {df['CAC'].mean()}\")\n",
        "print(f\"El LTV promedio es: {df['LTV'].mean()}\")"
      ],
      "metadata": {
        "colab": {
          "base_uri": "https://localhost:8080/"
        },
        "id": "WuxYF6EXH7U2",
        "outputId": "c8fdab08-c0c3-41d9-9925-999e11e7621e"
      },
      "execution_count": null,
      "outputs": [
        {
          "output_type": "stream",
          "name": "stdout",
          "text": [
            "El CAC promedio es: 66.29233565586186\n",
            "El LTV promedio es: 1110.6934262344744\n"
          ]
        }
      ]
    },
    {
      "cell_type": "markdown",
      "source": [
        "El CAC promedio es de 66.29233565586186 y el LTV promedio en todo el dataset es de 1110.6934262344744\n"
      ],
      "metadata": {
        "id": "dNNk-g3RIArg"
      }
    },
    {
      "cell_type": "markdown",
      "metadata": {
        "id": "4VdIO17gl0Lx"
      },
      "source": [
        "### 5.3 ¿Cuál es la ratio LTV/CAC promedio?"
      ]
    },
    {
      "cell_type": "code",
      "execution_count": null,
      "metadata": {
        "id": "uH_bDmHjl0Lx",
        "colab": {
          "base_uri": "https://localhost:8080/"
        },
        "outputId": "7c9310ee-b0ef-49bd-f16a-4c83f50421d7"
      },
      "outputs": [
        {
          "output_type": "execute_result",
          "data": {
            "text/plain": [
              "22.446982949947316"
            ]
          },
          "metadata": {},
          "execution_count": 15
        }
      ],
      "source": [
        "df['LTV/CAC'].mean()"
      ]
    },
    {
      "cell_type": "code",
      "source": [
        "df['LTV/CAC'].describe()"
      ],
      "metadata": {
        "colab": {
          "base_uri": "https://localhost:8080/",
          "height": 335
        },
        "id": "5p8fxvudIokF",
        "outputId": "0e5911d3-9756-4cb0-e23c-c83e15043133"
      },
      "execution_count": null,
      "outputs": [
        {
          "output_type": "execute_result",
          "data": {
            "text/plain": [
              "count    3301.000000\n",
              "mean       22.446983\n",
              "std        22.025988\n",
              "min         1.722689\n",
              "25%         9.723404\n",
              "50%        16.604651\n",
              "75%        26.469697\n",
              "max       215.800000\n",
              "Name: LTV/CAC, dtype: float64"
            ],
            "text/html": [
              "<div>\n",
              "<style scoped>\n",
              "    .dataframe tbody tr th:only-of-type {\n",
              "        vertical-align: middle;\n",
              "    }\n",
              "\n",
              "    .dataframe tbody tr th {\n",
              "        vertical-align: top;\n",
              "    }\n",
              "\n",
              "    .dataframe thead th {\n",
              "        text-align: right;\n",
              "    }\n",
              "</style>\n",
              "<table border=\"1\" class=\"dataframe\">\n",
              "  <thead>\n",
              "    <tr style=\"text-align: right;\">\n",
              "      <th></th>\n",
              "      <th>LTV/CAC</th>\n",
              "    </tr>\n",
              "  </thead>\n",
              "  <tbody>\n",
              "    <tr>\n",
              "      <th>count</th>\n",
              "      <td>3301.000000</td>\n",
              "    </tr>\n",
              "    <tr>\n",
              "      <th>mean</th>\n",
              "      <td>22.446983</td>\n",
              "    </tr>\n",
              "    <tr>\n",
              "      <th>std</th>\n",
              "      <td>22.025988</td>\n",
              "    </tr>\n",
              "    <tr>\n",
              "      <th>min</th>\n",
              "      <td>1.722689</td>\n",
              "    </tr>\n",
              "    <tr>\n",
              "      <th>25%</th>\n",
              "      <td>9.723404</td>\n",
              "    </tr>\n",
              "    <tr>\n",
              "      <th>50%</th>\n",
              "      <td>16.604651</td>\n",
              "    </tr>\n",
              "    <tr>\n",
              "      <th>75%</th>\n",
              "      <td>26.469697</td>\n",
              "    </tr>\n",
              "    <tr>\n",
              "      <th>max</th>\n",
              "      <td>215.800000</td>\n",
              "    </tr>\n",
              "  </tbody>\n",
              "</table>\n",
              "</div><br><label><b>dtype:</b> float64</label>"
            ]
          },
          "metadata": {},
          "execution_count": 16
        }
      ]
    },
    {
      "cell_type": "code",
      "source": [
        "print(f\"La ratio LTV/CAC promedio es: {df['LTV/CAC'].mean()}\")"
      ],
      "metadata": {
        "colab": {
          "base_uri": "https://localhost:8080/"
        },
        "id": "HypknM6ZIrci",
        "outputId": "e509d6aa-fefa-45ce-fb75-4512b397594e"
      },
      "execution_count": null,
      "outputs": [
        {
          "output_type": "stream",
          "name": "stdout",
          "text": [
            "La ratio LTV/CAC promedio es: 22.446982949947316\n"
          ]
        }
      ]
    },
    {
      "cell_type": "code",
      "source": [
        "print(f\"La ratio LTV/CAC promedio es: {df['LTV/CAC'].mean()}\")"
      ],
      "metadata": {
        "colab": {
          "base_uri": "https://localhost:8080/"
        },
        "id": "L2pXOTyzLrpK",
        "outputId": "44a0e231-fcc0-4693-9cf6-ef5b5544cb92"
      },
      "execution_count": 19,
      "outputs": [
        {
          "output_type": "stream",
          "name": "stdout",
          "text": [
            "La ratio LTV/CAC promedio es: 22.446982949947316\n"
          ]
        }
      ]
    },
    {
      "cell_type": "markdown",
      "source": [
        "El ratio LTV/CAC promedio es de 22.45 realizando la aproximacion, sin embargo, la cifra neta que aparece es 22.446982949947316\n",
        "\n",
        "\n",
        "\n"
      ],
      "metadata": {
        "id": "xXZyzX9SLEdH"
      }
    },
    {
      "cell_type": "markdown",
      "metadata": {
        "id": "oemG-9dgl0Lx"
      },
      "source": [
        "### 5.4 ¿Qué categoría tiene el mayor LTV en promedio?"
      ]
    },
    {
      "cell_type": "code",
      "execution_count": 20,
      "metadata": {
        "id": "vtS8-Zdal0Lx",
        "colab": {
          "base_uri": "https://localhost:8080/",
          "height": 210
        },
        "outputId": "550999a3-77e0-4be4-da3a-0b0612c24a8a"
      },
      "outputs": [
        {
          "output_type": "execute_result",
          "data": {
            "text/plain": [
              "Category\n",
              "Accessories    1145.992742\n",
              "Clothing       1095.688543\n",
              "Outerwear      1056.040123\n",
              "Name: LTV, dtype: float64"
            ],
            "text/html": [
              "<div>\n",
              "<style scoped>\n",
              "    .dataframe tbody tr th:only-of-type {\n",
              "        vertical-align: middle;\n",
              "    }\n",
              "\n",
              "    .dataframe tbody tr th {\n",
              "        vertical-align: top;\n",
              "    }\n",
              "\n",
              "    .dataframe thead th {\n",
              "        text-align: right;\n",
              "    }\n",
              "</style>\n",
              "<table border=\"1\" class=\"dataframe\">\n",
              "  <thead>\n",
              "    <tr style=\"text-align: right;\">\n",
              "      <th></th>\n",
              "      <th>LTV</th>\n",
              "    </tr>\n",
              "    <tr>\n",
              "      <th>Category</th>\n",
              "      <th></th>\n",
              "    </tr>\n",
              "  </thead>\n",
              "  <tbody>\n",
              "    <tr>\n",
              "      <th>Accessories</th>\n",
              "      <td>1145.992742</td>\n",
              "    </tr>\n",
              "    <tr>\n",
              "      <th>Clothing</th>\n",
              "      <td>1095.688543</td>\n",
              "    </tr>\n",
              "    <tr>\n",
              "      <th>Outerwear</th>\n",
              "      <td>1056.040123</td>\n",
              "    </tr>\n",
              "  </tbody>\n",
              "</table>\n",
              "</div><br><label><b>dtype:</b> float64</label>"
            ]
          },
          "metadata": {},
          "execution_count": 20
        }
      ],
      "source": [
        "df.groupby('Category')['LTV'].mean().sort_values(ascending=False)"
      ]
    },
    {
      "cell_type": "code",
      "source": [
        "print(df.groupby('Category')['LTV'].mean().idxmax())\n"
      ],
      "metadata": {
        "id": "avi-6z-tMJdI",
        "colab": {
          "base_uri": "https://localhost:8080/"
        },
        "outputId": "6042d892-04de-4133-f749-598e11fb3484"
      },
      "execution_count": 21,
      "outputs": [
        {
          "output_type": "stream",
          "name": "stdout",
          "text": [
            "Accessories\n"
          ]
        }
      ]
    },
    {
      "cell_type": "markdown",
      "source": [
        "La categoría que tiene el mayor LTV en promedio es accesorios \"Accessories\""
      ],
      "metadata": {
        "id": "BPRTrRnNMqAv"
      }
    },
    {
      "cell_type": "markdown",
      "metadata": {
        "id": "0hgGkGOAl0Lx"
      },
      "source": [
        "### 5.5 ¿En cuál categoría se justifica más el CAC? (mayor ratio LTV/CAC)"
      ]
    },
    {
      "cell_type": "code",
      "execution_count": 22,
      "metadata": {
        "id": "5KxrltoCl0Lx",
        "colab": {
          "base_uri": "https://localhost:8080/",
          "height": 210
        },
        "outputId": "aa8e8bd1-a376-4daa-d388-b54f6a50100f"
      },
      "outputs": [
        {
          "output_type": "execute_result",
          "data": {
            "text/plain": [
              "Category\n",
              "Accessories    29.281313\n",
              "Outerwear      26.319371\n",
              "Clothing       16.845818\n",
              "Name: LTV/CAC, dtype: float64"
            ],
            "text/html": [
              "<div>\n",
              "<style scoped>\n",
              "    .dataframe tbody tr th:only-of-type {\n",
              "        vertical-align: middle;\n",
              "    }\n",
              "\n",
              "    .dataframe tbody tr th {\n",
              "        vertical-align: top;\n",
              "    }\n",
              "\n",
              "    .dataframe thead th {\n",
              "        text-align: right;\n",
              "    }\n",
              "</style>\n",
              "<table border=\"1\" class=\"dataframe\">\n",
              "  <thead>\n",
              "    <tr style=\"text-align: right;\">\n",
              "      <th></th>\n",
              "      <th>LTV/CAC</th>\n",
              "    </tr>\n",
              "    <tr>\n",
              "      <th>Category</th>\n",
              "      <th></th>\n",
              "    </tr>\n",
              "  </thead>\n",
              "  <tbody>\n",
              "    <tr>\n",
              "      <th>Accessories</th>\n",
              "      <td>29.281313</td>\n",
              "    </tr>\n",
              "    <tr>\n",
              "      <th>Outerwear</th>\n",
              "      <td>26.319371</td>\n",
              "    </tr>\n",
              "    <tr>\n",
              "      <th>Clothing</th>\n",
              "      <td>16.845818</td>\n",
              "    </tr>\n",
              "  </tbody>\n",
              "</table>\n",
              "</div><br><label><b>dtype:</b> float64</label>"
            ]
          },
          "metadata": {},
          "execution_count": 22
        }
      ],
      "source": [
        "df.groupby('Category')['LTV/CAC'].mean().sort_values(ascending=False)"
      ]
    },
    {
      "cell_type": "code",
      "source": [
        "print(df.groupby('Category')['LTV/CAC'].mean().idxmax())"
      ],
      "metadata": {
        "id": "nyJQZvC9NQG0",
        "colab": {
          "base_uri": "https://localhost:8080/"
        },
        "outputId": "b8f5201b-f1cc-4585-ee62-fe9fac713b21"
      },
      "execution_count": 23,
      "outputs": [
        {
          "output_type": "stream",
          "name": "stdout",
          "text": [
            "Accessories\n"
          ]
        }
      ]
    },
    {
      "cell_type": "code",
      "source": [
        "print(df.groupby('Category')['LTV/CAC'].mean())"
      ],
      "metadata": {
        "id": "KupgiLyHN23e",
        "colab": {
          "base_uri": "https://localhost:8080/"
        },
        "outputId": "9315a906-aa3f-46ee-8ef7-1feb1729739a"
      },
      "execution_count": 24,
      "outputs": [
        {
          "output_type": "stream",
          "name": "stdout",
          "text": [
            "Category\n",
            "Accessories    29.281313\n",
            "Clothing       16.845818\n",
            "Outerwear      26.319371\n",
            "Name: LTV/CAC, dtype: float64\n"
          ]
        }
      ]
    },
    {
      "cell_type": "markdown",
      "source": [
        "La categoría en la que más se justifica el Costo de Adquisición de Clientes (CAC) es \"Accesories\" , ya que presenta el mayor ratio LTV/CAC con un valor de 29.28 . Esto indica que, en promedio, el lifetime value (LTV) en esta categoría es significativamente mayor en relación con el costo de adquisición, lo que hace que la inversión en CAC sea más rentable en comparación con las demás categorías."
      ],
      "metadata": {
        "id": "a5UWlpowcn7p"
      }
    },
    {
      "cell_type": "markdown",
      "metadata": {
        "id": "2Y-rWIQbl0Lx"
      },
      "source": [
        "### 5.6 ¿Los clientes suscritos tienen LTV mayor que los no suscritos?"
      ]
    },
    {
      "cell_type": "code",
      "execution_count": 25,
      "metadata": {
        "id": "hY2KZjOCl0Ly",
        "colab": {
          "base_uri": "https://localhost:8080/",
          "height": 178
        },
        "outputId": "842691d3-5dba-45ce-b723-2fd10abf3786"
      },
      "outputs": [
        {
          "output_type": "execute_result",
          "data": {
            "text/plain": [
              "Subscription Status\n",
              "No     1115.798264\n",
              "Yes    1096.692744\n",
              "Name: LTV, dtype: float64"
            ],
            "text/html": [
              "<div>\n",
              "<style scoped>\n",
              "    .dataframe tbody tr th:only-of-type {\n",
              "        vertical-align: middle;\n",
              "    }\n",
              "\n",
              "    .dataframe tbody tr th {\n",
              "        vertical-align: top;\n",
              "    }\n",
              "\n",
              "    .dataframe thead th {\n",
              "        text-align: right;\n",
              "    }\n",
              "</style>\n",
              "<table border=\"1\" class=\"dataframe\">\n",
              "  <thead>\n",
              "    <tr style=\"text-align: right;\">\n",
              "      <th></th>\n",
              "      <th>LTV</th>\n",
              "    </tr>\n",
              "    <tr>\n",
              "      <th>Subscription Status</th>\n",
              "      <th></th>\n",
              "    </tr>\n",
              "  </thead>\n",
              "  <tbody>\n",
              "    <tr>\n",
              "      <th>No</th>\n",
              "      <td>1115.798264</td>\n",
              "    </tr>\n",
              "    <tr>\n",
              "      <th>Yes</th>\n",
              "      <td>1096.692744</td>\n",
              "    </tr>\n",
              "  </tbody>\n",
              "</table>\n",
              "</div><br><label><b>dtype:</b> float64</label>"
            ]
          },
          "metadata": {},
          "execution_count": 25
        }
      ],
      "source": [
        "df.groupby('Subscription Status')['LTV'].mean()"
      ]
    },
    {
      "cell_type": "markdown",
      "source": [
        "No, los clientes suscritos \"yes\" tienen un LTV promedio de 1096.692744, mientras que los no suscritos \"no\" alcanzan un promedio de 1115.798264; lo que indica que, en promedio, los clientes no suscritos generan un LTV mayor a lo largo del tiempo en comparación con si son suscritos."
      ],
      "metadata": {
        "id": "g5DotL_feSKG"
      }
    },
    {
      "cell_type": "markdown",
      "metadata": {
        "id": "9XIm-WKdl0Ly"
      },
      "source": [
        "### 5.7 ¿Cuál es el método de pago más frecuente y su LTV promedio?"
      ]
    },
    {
      "cell_type": "code",
      "source": [
        "df.groupby('Payment Method')['LTV'].mean().sort_values(ascending=False)"
      ],
      "metadata": {
        "id": "pxqXJfEnfBhJ",
        "colab": {
          "base_uri": "https://localhost:8080/",
          "height": 304
        },
        "outputId": "da6610d8-eefe-48bf-b79b-d93ef37b66c0"
      },
      "execution_count": 26,
      "outputs": [
        {
          "output_type": "execute_result",
          "data": {
            "text/plain": [
              "Payment Method\n",
              "Cash             1162.265193\n",
              "Bank Transfer    1135.986891\n",
              "Credit Card      1099.990196\n",
              "Debit Card       1098.097786\n",
              "PayPal           1086.798095\n",
              "Venmo            1082.091743\n",
              "Name: LTV, dtype: float64"
            ],
            "text/html": [
              "<div>\n",
              "<style scoped>\n",
              "    .dataframe tbody tr th:only-of-type {\n",
              "        vertical-align: middle;\n",
              "    }\n",
              "\n",
              "    .dataframe tbody tr th {\n",
              "        vertical-align: top;\n",
              "    }\n",
              "\n",
              "    .dataframe thead th {\n",
              "        text-align: right;\n",
              "    }\n",
              "</style>\n",
              "<table border=\"1\" class=\"dataframe\">\n",
              "  <thead>\n",
              "    <tr style=\"text-align: right;\">\n",
              "      <th></th>\n",
              "      <th>LTV</th>\n",
              "    </tr>\n",
              "    <tr>\n",
              "      <th>Payment Method</th>\n",
              "      <th></th>\n",
              "    </tr>\n",
              "  </thead>\n",
              "  <tbody>\n",
              "    <tr>\n",
              "      <th>Cash</th>\n",
              "      <td>1162.265193</td>\n",
              "    </tr>\n",
              "    <tr>\n",
              "      <th>Bank Transfer</th>\n",
              "      <td>1135.986891</td>\n",
              "    </tr>\n",
              "    <tr>\n",
              "      <th>Credit Card</th>\n",
              "      <td>1099.990196</td>\n",
              "    </tr>\n",
              "    <tr>\n",
              "      <th>Debit Card</th>\n",
              "      <td>1098.097786</td>\n",
              "    </tr>\n",
              "    <tr>\n",
              "      <th>PayPal</th>\n",
              "      <td>1086.798095</td>\n",
              "    </tr>\n",
              "    <tr>\n",
              "      <th>Venmo</th>\n",
              "      <td>1082.091743</td>\n",
              "    </tr>\n",
              "  </tbody>\n",
              "</table>\n",
              "</div><br><label><b>dtype:</b> float64</label>"
            ]
          },
          "metadata": {},
          "execution_count": 26
        }
      ]
    },
    {
      "cell_type": "code",
      "source": [
        "print(df.groupby('Payment Method')['LTV'].mean().idxmax())"
      ],
      "metadata": {
        "id": "0bdXcHeLfMoT",
        "colab": {
          "base_uri": "https://localhost:8080/"
        },
        "outputId": "a25fa8b0-296c-4731-b8a6-598677523bc6"
      },
      "execution_count": 27,
      "outputs": [
        {
          "output_type": "stream",
          "name": "stdout",
          "text": [
            "Cash\n"
          ]
        }
      ]
    },
    {
      "cell_type": "markdown",
      "source": [
        "El método de pago más frecuente es \"Cash\" y su LTV promedio es de \"1162.265193\""
      ],
      "metadata": {
        "id": "DtsTLS9GfV46"
      }
    },
    {
      "cell_type": "markdown",
      "metadata": {
        "id": "vpl4g3Bxl0Ly"
      },
      "source": [
        "### 5.8 ¿Quiénes usan descuentos con mayor frecuencia?\n",
        "Podemos ver si hay algún grupo (por género, rango de edad, etc.) que destaca. A modo de ejemplo, segmentaremos por género:"
      ]
    },
    {
      "cell_type": "code",
      "execution_count": 28,
      "metadata": {
        "id": "3eIvztWfl0Ly",
        "colab": {
          "base_uri": "https://localhost:8080/",
          "height": 210
        },
        "outputId": "6b1479f2-65e6-465f-e4ed-47fd93a5c889"
      },
      "outputs": [
        {
          "output_type": "execute_result",
          "data": {
            "text/plain": [
              "Gender  Promo Code Used\n",
              "Female  No                 1049\n",
              "Male    Yes                1418\n",
              "        No                  834\n",
              "Name: count, dtype: int64"
            ],
            "text/html": [
              "<div>\n",
              "<style scoped>\n",
              "    .dataframe tbody tr th:only-of-type {\n",
              "        vertical-align: middle;\n",
              "    }\n",
              "\n",
              "    .dataframe tbody tr th {\n",
              "        vertical-align: top;\n",
              "    }\n",
              "\n",
              "    .dataframe thead th {\n",
              "        text-align: right;\n",
              "    }\n",
              "</style>\n",
              "<table border=\"1\" class=\"dataframe\">\n",
              "  <thead>\n",
              "    <tr style=\"text-align: right;\">\n",
              "      <th></th>\n",
              "      <th></th>\n",
              "      <th>count</th>\n",
              "    </tr>\n",
              "    <tr>\n",
              "      <th>Gender</th>\n",
              "      <th>Promo Code Used</th>\n",
              "      <th></th>\n",
              "    </tr>\n",
              "  </thead>\n",
              "  <tbody>\n",
              "    <tr>\n",
              "      <th>Female</th>\n",
              "      <th>No</th>\n",
              "      <td>1049</td>\n",
              "    </tr>\n",
              "    <tr>\n",
              "      <th rowspan=\"2\" valign=\"top\">Male</th>\n",
              "      <th>Yes</th>\n",
              "      <td>1418</td>\n",
              "    </tr>\n",
              "    <tr>\n",
              "      <th>No</th>\n",
              "      <td>834</td>\n",
              "    </tr>\n",
              "  </tbody>\n",
              "</table>\n",
              "</div><br><label><b>dtype:</b> int64</label>"
            ]
          },
          "metadata": {},
          "execution_count": 28
        }
      ],
      "source": [
        "df.groupby('Gender')['Promo Code Used'].value_counts()"
      ]
    },
    {
      "cell_type": "code",
      "source": [
        "print(df.groupby('Gender')['Promo Code Used'].value_counts())"
      ],
      "metadata": {
        "id": "5iXDFr5ef70O",
        "colab": {
          "base_uri": "https://localhost:8080/"
        },
        "outputId": "69ab6803-f6d0-497d-863f-134b53396054"
      },
      "execution_count": 29,
      "outputs": [
        {
          "output_type": "stream",
          "name": "stdout",
          "text": [
            "Gender  Promo Code Used\n",
            "Female  No                 1049\n",
            "Male    Yes                1418\n",
            "        No                  834\n",
            "Name: count, dtype: int64\n"
          ]
        }
      ]
    },
    {
      "cell_type": "markdown",
      "source": [
        "Los hombres utilizan códigos de descuento con mayor frecuencia en comparación con las mujeres, pues al analizar los resultados que arrojan las formulas 1,418 hombres usaron códigos de descuento, mientras que 834 no lo hicieron. Adicional, 1,049 mujeres no usaron códigos de descuento, pues no hay datos explícitos de cuántas sí los usaron"
      ],
      "metadata": {
        "id": "KNH94x9GhoiJ"
      }
    },
    {
      "cell_type": "markdown",
      "metadata": {
        "id": "NXufdcl1l0Ly"
      },
      "source": [
        "Podrías repetir el ejercicio segmentando por **Age** (definiendo rangos) o por **Location**."
      ]
    },
    {
      "cell_type": "code",
      "source": [
        "print(df.groupby('Age')['Promo Code Used'].value_counts())"
      ],
      "metadata": {
        "id": "bKjuuhSpfll1",
        "colab": {
          "base_uri": "https://localhost:8080/"
        },
        "outputId": "52790493-734d-4d09-ff40-7f8acf7685f1"
      },
      "execution_count": 30,
      "outputs": [
        {
          "output_type": "stream",
          "name": "stdout",
          "text": [
            "Age  Promo Code Used\n",
            "18   No                 35\n",
            "     Yes                26\n",
            "19   No                 44\n",
            "     Yes                25\n",
            "20   No                 28\n",
            "                        ..\n",
            "68   Yes                30\n",
            "69   No                 49\n",
            "     Yes                32\n",
            "70   No                 30\n",
            "     Yes                25\n",
            "Name: count, Length: 106, dtype: int64\n"
          ]
        }
      ]
    },
    {
      "cell_type": "code",
      "source": [
        "df.groupby('Location')['Promo Code Used'].value_counts()"
      ],
      "metadata": {
        "id": "tSz4RaQVfvXJ",
        "colab": {
          "base_uri": "https://localhost:8080/",
          "height": 490
        },
        "outputId": "355c18e7-90ec-4c7c-85b5-5cc5fbfe356e"
      },
      "execution_count": 31,
      "outputs": [
        {
          "output_type": "execute_result",
          "data": {
            "text/plain": [
              "Location       Promo Code Used\n",
              "Alabama        No                 41\n",
              "               Yes                33\n",
              "Alaska         No                 38\n",
              "               Yes                25\n",
              "Arizona        No                 41\n",
              "                                  ..\n",
              "West Virginia  No                 33\n",
              "Wisconsin      No                 32\n",
              "               Yes                31\n",
              "Wyoming        No                 34\n",
              "               Yes                26\n",
              "Name: count, Length: 100, dtype: int64"
            ],
            "text/html": [
              "<div>\n",
              "<style scoped>\n",
              "    .dataframe tbody tr th:only-of-type {\n",
              "        vertical-align: middle;\n",
              "    }\n",
              "\n",
              "    .dataframe tbody tr th {\n",
              "        vertical-align: top;\n",
              "    }\n",
              "\n",
              "    .dataframe thead th {\n",
              "        text-align: right;\n",
              "    }\n",
              "</style>\n",
              "<table border=\"1\" class=\"dataframe\">\n",
              "  <thead>\n",
              "    <tr style=\"text-align: right;\">\n",
              "      <th></th>\n",
              "      <th></th>\n",
              "      <th>count</th>\n",
              "    </tr>\n",
              "    <tr>\n",
              "      <th>Location</th>\n",
              "      <th>Promo Code Used</th>\n",
              "      <th></th>\n",
              "    </tr>\n",
              "  </thead>\n",
              "  <tbody>\n",
              "    <tr>\n",
              "      <th rowspan=\"2\" valign=\"top\">Alabama</th>\n",
              "      <th>No</th>\n",
              "      <td>41</td>\n",
              "    </tr>\n",
              "    <tr>\n",
              "      <th>Yes</th>\n",
              "      <td>33</td>\n",
              "    </tr>\n",
              "    <tr>\n",
              "      <th rowspan=\"2\" valign=\"top\">Alaska</th>\n",
              "      <th>No</th>\n",
              "      <td>38</td>\n",
              "    </tr>\n",
              "    <tr>\n",
              "      <th>Yes</th>\n",
              "      <td>25</td>\n",
              "    </tr>\n",
              "    <tr>\n",
              "      <th>Arizona</th>\n",
              "      <th>No</th>\n",
              "      <td>41</td>\n",
              "    </tr>\n",
              "    <tr>\n",
              "      <th>...</th>\n",
              "      <th>...</th>\n",
              "      <td>...</td>\n",
              "    </tr>\n",
              "    <tr>\n",
              "      <th>West Virginia</th>\n",
              "      <th>No</th>\n",
              "      <td>33</td>\n",
              "    </tr>\n",
              "    <tr>\n",
              "      <th rowspan=\"2\" valign=\"top\">Wisconsin</th>\n",
              "      <th>No</th>\n",
              "      <td>32</td>\n",
              "    </tr>\n",
              "    <tr>\n",
              "      <th>Yes</th>\n",
              "      <td>31</td>\n",
              "    </tr>\n",
              "    <tr>\n",
              "      <th rowspan=\"2\" valign=\"top\">Wyoming</th>\n",
              "      <th>No</th>\n",
              "      <td>34</td>\n",
              "    </tr>\n",
              "    <tr>\n",
              "      <th>Yes</th>\n",
              "      <td>26</td>\n",
              "    </tr>\n",
              "  </tbody>\n",
              "</table>\n",
              "<p>100 rows × 1 columns</p>\n",
              "</div><br><label><b>dtype:</b> int64</label>"
            ]
          },
          "metadata": {},
          "execution_count": 31
        }
      ]
    },
    {
      "cell_type": "markdown",
      "metadata": {
        "id": "ZkDqVejZl0Ly"
      },
      "source": [
        "### 5.9 ¿Cuántos clientes aprovechan códigos promocionales y cuál es su ratio LTV/CAC?\n",
        "El uso de promos puede modificar la rentabilidad."
      ]
    },
    {
      "cell_type": "code",
      "execution_count": 32,
      "metadata": {
        "id": "qi9HX1KEl0Ly",
        "colab": {
          "base_uri": "https://localhost:8080/",
          "height": 178
        },
        "outputId": "2c762b1d-c64e-4139-8314-e41792de2926"
      },
      "outputs": [
        {
          "output_type": "execute_result",
          "data": {
            "text/plain": [
              "Promo Code Used\n",
              "No     22.252655\n",
              "Yes    22.705036\n",
              "Name: LTV/CAC, dtype: float64"
            ],
            "text/html": [
              "<div>\n",
              "<style scoped>\n",
              "    .dataframe tbody tr th:only-of-type {\n",
              "        vertical-align: middle;\n",
              "    }\n",
              "\n",
              "    .dataframe tbody tr th {\n",
              "        vertical-align: top;\n",
              "    }\n",
              "\n",
              "    .dataframe thead th {\n",
              "        text-align: right;\n",
              "    }\n",
              "</style>\n",
              "<table border=\"1\" class=\"dataframe\">\n",
              "  <thead>\n",
              "    <tr style=\"text-align: right;\">\n",
              "      <th></th>\n",
              "      <th>LTV/CAC</th>\n",
              "    </tr>\n",
              "    <tr>\n",
              "      <th>Promo Code Used</th>\n",
              "      <th></th>\n",
              "    </tr>\n",
              "  </thead>\n",
              "  <tbody>\n",
              "    <tr>\n",
              "      <th>No</th>\n",
              "      <td>22.252655</td>\n",
              "    </tr>\n",
              "    <tr>\n",
              "      <th>Yes</th>\n",
              "      <td>22.705036</td>\n",
              "    </tr>\n",
              "  </tbody>\n",
              "</table>\n",
              "</div><br><label><b>dtype:</b> float64</label>"
            ]
          },
          "metadata": {},
          "execution_count": 32
        }
      ],
      "source": [
        "df.groupby('Promo Code Used')['LTV/CAC'].mean()"
      ]
    },
    {
      "cell_type": "markdown",
      "source": [
        "Son \t22.705036 clientes aprovechan códigos promocionales y a su vez los datos indican que el ratio LTV/CAC para quienes utilizaron códigos promocionales es 22.70 , mientras que para quienes no los usaron es 22.25"
      ],
      "metadata": {
        "id": "AaE5inLcjAxz"
      }
    },
    {
      "cell_type": "markdown",
      "metadata": {
        "id": "XIC-8-19l0Ly"
      },
      "source": [
        "### 5.10 ¿Cuál es la frecuencia de compra más común (Frequency of Purchases) y su LTV?\n",
        "Esto ayuda a ver si, por ejemplo, los clientes que compran semanalmente tienen un LTV más alto."
      ]
    },
    {
      "cell_type": "code",
      "source": [
        "df.groupby('Frequency of Purchases')['LTV'].mean().sort_values(ascending=False)"
      ],
      "metadata": {
        "id": "xpEvvamXkyVx",
        "colab": {
          "base_uri": "https://localhost:8080/",
          "height": 335
        },
        "outputId": "e9a85e33-3d9a-49f2-d16b-dae9dbc09456"
      },
      "execution_count": 33,
      "outputs": [
        {
          "output_type": "execute_result",
          "data": {
            "text/plain": [
              "Frequency of Purchases\n",
              "Bi-Weekly         1181.297645\n",
              "Weekly            1112.854305\n",
              "Fortnightly       1112.547085\n",
              "Monthly           1101.855649\n",
              "Annually          1095.987629\n",
              "Every 3 Months    1088.776423\n",
              "Quarterly         1084.364583\n",
              "Name: LTV, dtype: float64"
            ],
            "text/html": [
              "<div>\n",
              "<style scoped>\n",
              "    .dataframe tbody tr th:only-of-type {\n",
              "        vertical-align: middle;\n",
              "    }\n",
              "\n",
              "    .dataframe tbody tr th {\n",
              "        vertical-align: top;\n",
              "    }\n",
              "\n",
              "    .dataframe thead th {\n",
              "        text-align: right;\n",
              "    }\n",
              "</style>\n",
              "<table border=\"1\" class=\"dataframe\">\n",
              "  <thead>\n",
              "    <tr style=\"text-align: right;\">\n",
              "      <th></th>\n",
              "      <th>LTV</th>\n",
              "    </tr>\n",
              "    <tr>\n",
              "      <th>Frequency of Purchases</th>\n",
              "      <th></th>\n",
              "    </tr>\n",
              "  </thead>\n",
              "  <tbody>\n",
              "    <tr>\n",
              "      <th>Bi-Weekly</th>\n",
              "      <td>1181.297645</td>\n",
              "    </tr>\n",
              "    <tr>\n",
              "      <th>Weekly</th>\n",
              "      <td>1112.854305</td>\n",
              "    </tr>\n",
              "    <tr>\n",
              "      <th>Fortnightly</th>\n",
              "      <td>1112.547085</td>\n",
              "    </tr>\n",
              "    <tr>\n",
              "      <th>Monthly</th>\n",
              "      <td>1101.855649</td>\n",
              "    </tr>\n",
              "    <tr>\n",
              "      <th>Annually</th>\n",
              "      <td>1095.987629</td>\n",
              "    </tr>\n",
              "    <tr>\n",
              "      <th>Every 3 Months</th>\n",
              "      <td>1088.776423</td>\n",
              "    </tr>\n",
              "    <tr>\n",
              "      <th>Quarterly</th>\n",
              "      <td>1084.364583</td>\n",
              "    </tr>\n",
              "  </tbody>\n",
              "</table>\n",
              "</div><br><label><b>dtype:</b> float64</label>"
            ]
          },
          "metadata": {},
          "execution_count": 33
        }
      ]
    },
    {
      "cell_type": "code",
      "source": [
        "df.groupby('Frequency of Purchases')['LTV'].mean().idxmax()"
      ],
      "metadata": {
        "id": "YgfFgTM8kwFA",
        "colab": {
          "base_uri": "https://localhost:8080/",
          "height": 35
        },
        "outputId": "10e3745f-856b-4686-88f8-9d85c4d91f8c"
      },
      "execution_count": 34,
      "outputs": [
        {
          "output_type": "execute_result",
          "data": {
            "text/plain": [
              "'Bi-Weekly'"
            ],
            "application/vnd.google.colaboratory.intrinsic+json": {
              "type": "string"
            }
          },
          "metadata": {},
          "execution_count": 34
        }
      ]
    },
    {
      "cell_type": "markdown",
      "source": [
        "La frecuencia de compra más común (Frequency of Purchases) es Bi-Weekly y su LTV es de 1181.297645"
      ],
      "metadata": {
        "id": "LgtOWPGVk8f7"
      }
    },
    {
      "cell_type": "markdown",
      "metadata": {
        "id": "oey87SkVl0Ly"
      },
      "source": [
        "### 5.11 ¿Cuál es la ubicación (Location) con mayor ratio LTV/CAC?"
      ]
    },
    {
      "cell_type": "code",
      "execution_count": 35,
      "metadata": {
        "id": "QUT3x0RVl0Ly",
        "colab": {
          "base_uri": "https://localhost:8080/",
          "height": 272
        },
        "outputId": "23a667ce-46a2-4255-b2e0-4e6a5ca036c0"
      },
      "outputs": [
        {
          "output_type": "execute_result",
          "data": {
            "text/plain": [
              "Location\n",
              "New York        32.785849\n",
              "Kentucky        30.392803\n",
              "South Dakota    30.023524\n",
              "California      27.714002\n",
              "Hawaii          27.288639\n",
              "Name: LTV/CAC, dtype: float64"
            ],
            "text/html": [
              "<div>\n",
              "<style scoped>\n",
              "    .dataframe tbody tr th:only-of-type {\n",
              "        vertical-align: middle;\n",
              "    }\n",
              "\n",
              "    .dataframe tbody tr th {\n",
              "        vertical-align: top;\n",
              "    }\n",
              "\n",
              "    .dataframe thead th {\n",
              "        text-align: right;\n",
              "    }\n",
              "</style>\n",
              "<table border=\"1\" class=\"dataframe\">\n",
              "  <thead>\n",
              "    <tr style=\"text-align: right;\">\n",
              "      <th></th>\n",
              "      <th>LTV/CAC</th>\n",
              "    </tr>\n",
              "    <tr>\n",
              "      <th>Location</th>\n",
              "      <th></th>\n",
              "    </tr>\n",
              "  </thead>\n",
              "  <tbody>\n",
              "    <tr>\n",
              "      <th>New York</th>\n",
              "      <td>32.785849</td>\n",
              "    </tr>\n",
              "    <tr>\n",
              "      <th>Kentucky</th>\n",
              "      <td>30.392803</td>\n",
              "    </tr>\n",
              "    <tr>\n",
              "      <th>South Dakota</th>\n",
              "      <td>30.023524</td>\n",
              "    </tr>\n",
              "    <tr>\n",
              "      <th>California</th>\n",
              "      <td>27.714002</td>\n",
              "    </tr>\n",
              "    <tr>\n",
              "      <th>Hawaii</th>\n",
              "      <td>27.288639</td>\n",
              "    </tr>\n",
              "  </tbody>\n",
              "</table>\n",
              "</div><br><label><b>dtype:</b> float64</label>"
            ]
          },
          "metadata": {},
          "execution_count": 35
        }
      ],
      "source": [
        "#la ubicación (Location) con mayor ratio LTV/CAC es New York: 32.785849\n",
        "df.groupby('Location')['LTV/CAC'].mean().sort_values(ascending=False).head(5)"
      ]
    },
    {
      "cell_type": "markdown",
      "metadata": {
        "id": "MaTl3Ycfl0Ly"
      },
      "source": [
        "### 5.12 Entre los clientes con `Previous Purchases` > X, ¿cuál es el gasto promedio y el LTV promedio?\n",
        "Define un umbral X según tu contexto. Por ejemplo, X = 20:"
      ]
    },
    {
      "cell_type": "code",
      "execution_count": 36,
      "metadata": {
        "id": "Zg7ZSsSvl0Ly",
        "colab": {
          "base_uri": "https://localhost:8080/",
          "height": 147
        },
        "outputId": "bae6b7dd-d128-4f1e-e7cd-e06be59206bd"
      },
      "outputs": [
        {
          "output_type": "execute_result",
          "data": {
            "text/plain": [
              "Purchase Amount (USD)      59.636872\n",
              "LTV                      1121.810564\n",
              "dtype: float64"
            ],
            "text/html": [
              "<div>\n",
              "<style scoped>\n",
              "    .dataframe tbody tr th:only-of-type {\n",
              "        vertical-align: middle;\n",
              "    }\n",
              "\n",
              "    .dataframe tbody tr th {\n",
              "        vertical-align: top;\n",
              "    }\n",
              "\n",
              "    .dataframe thead th {\n",
              "        text-align: right;\n",
              "    }\n",
              "</style>\n",
              "<table border=\"1\" class=\"dataframe\">\n",
              "  <thead>\n",
              "    <tr style=\"text-align: right;\">\n",
              "      <th></th>\n",
              "      <th>0</th>\n",
              "    </tr>\n",
              "  </thead>\n",
              "  <tbody>\n",
              "    <tr>\n",
              "      <th>Purchase Amount (USD)</th>\n",
              "      <td>59.636872</td>\n",
              "    </tr>\n",
              "    <tr>\n",
              "      <th>LTV</th>\n",
              "      <td>1121.810564</td>\n",
              "    </tr>\n",
              "  </tbody>\n",
              "</table>\n",
              "</div><br><label><b>dtype:</b> float64</label>"
            ]
          },
          "metadata": {},
          "execution_count": 36
        }
      ],
      "source": [
        "df[df['Previous Purchases'] > 20].agg({'Purchase Amount (USD)': 'mean', 'LTV': 'mean'})"
      ]
    },
    {
      "cell_type": "markdown",
      "metadata": {
        "id": "5cUtm7Y8l0Lz"
      },
      "source": [
        "## 6. Conclusiones\n",
        "\n",
        "En este Notebook, hemos abordado un **EDA orientado a negocio** en el que:\n",
        "1. **Identificamos** la base total de clientes y su edad promedio.\n",
        "2. **Calculamos** el CAC y LTV promedio, y la ratio LTV/CAC global.\n",
        "3. **Segregamos** por categorías, suscripción, uso de descuentos, métodos de pago, etc.\n",
        "4. **Resolvimos** preguntas de negocio que ayudan a:\n",
        "   - **Identificar** cuáles categorías o ubicaciones ofrecen mejor rentabilidad (ratio LTV/CAC).\n",
        "   - **Entender** si la suscripción eleva el LTV.\n",
        "   - **Explorar** la efectividad de promos y descuentos.\n",
        "   - **Diferenciar** frecuencias de compra y ver su impacto en LTV.\n",
        "   - **Focalizar** inversiones de marketing en los segmentos más prometedores.\n",
        "\n",
        "Este tipo de **análisis** proporciona las bases para **estrategias** de retención, adquisición y segmentación de clientes. ¡Espero que te sea útil para **generar valor** en tu negocio!"
      ]
    }
  ],
  "metadata": {
    "kernelspec": {
      "display_name": "Python 3",
      "language": "python",
      "name": "python3"
    },
    "language_info": {
      "codemirror_mode": {
        "name": "ipython",
        "version": 3
      },
      "file_extension": ".py",
      "mimetype": "text/x-python",
      "name": "python",
      "nbconvert_exporter": "python",
      "pygments_lexer": "ipython3",
      "version": "3.12.4"
    },
    "colab": {
      "provenance": []
    }
  },
  "nbformat": 4,
  "nbformat_minor": 0
}